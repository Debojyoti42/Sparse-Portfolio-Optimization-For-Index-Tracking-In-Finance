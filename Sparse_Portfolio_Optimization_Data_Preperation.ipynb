{
  "nbformat": 4,
  "nbformat_minor": 0,
  "metadata": {
    "colab": {
      "provenance": []
    },
    "kernelspec": {
      "name": "python3",
      "display_name": "Python 3"
    },
    "language_info": {
      "name": "python"
    }
  },
  "cells": [
    {
      "cell_type": "code",
      "source": [
        "!pip install YahooFinancials\n",
        "!pip install yahoofinance"
      ],
      "metadata": {
        "colab": {
          "base_uri": "https://localhost:8080/"
        },
        "id": "yi62-mQ0-p2e",
        "outputId": "15e569be-3748-48f9-ba30-619f80172a9a"
      },
      "execution_count": null,
      "outputs": [
        {
          "output_type": "stream",
          "name": "stdout",
          "text": [
            "Looking in indexes: https://pypi.org/simple, https://us-python.pkg.dev/colab-wheels/public/simple/\n",
            "Requirement already satisfied: YahooFinancials in /usr/local/lib/python3.9/dist-packages (1.14)\n",
            "Requirement already satisfied: requests>=2.26 in /usr/local/lib/python3.9/dist-packages (from YahooFinancials) (2.27.1)\n",
            "Requirement already satisfied: pytz in /usr/local/lib/python3.9/dist-packages (from YahooFinancials) (2022.7.1)\n",
            "Requirement already satisfied: certifi>=2017.4.17 in /usr/local/lib/python3.9/dist-packages (from requests>=2.26->YahooFinancials) (2022.12.7)\n",
            "Requirement already satisfied: urllib3<1.27,>=1.21.1 in /usr/local/lib/python3.9/dist-packages (from requests>=2.26->YahooFinancials) (1.26.15)\n",
            "Requirement already satisfied: idna<4,>=2.5 in /usr/local/lib/python3.9/dist-packages (from requests>=2.26->YahooFinancials) (3.4)\n",
            "Requirement already satisfied: charset-normalizer~=2.0.0 in /usr/local/lib/python3.9/dist-packages (from requests>=2.26->YahooFinancials) (2.0.12)\n"
          ]
        }
      ]
    },
    {
      "cell_type": "code",
      "execution_count": null,
      "metadata": {
        "id": "9rhYv-webBxu"
      },
      "outputs": [],
      "source": [
        "import pandas as pd\n",
        "import glob\n",
        "import numpy as np"
      ]
    },
    {
      "cell_type": "code",
      "source": [
        "file_paths=sorted(glob.glob(\"/content/drive/MyDrive/NIFTY 50 Dataset/\"+\"*.csv\"))"
      ],
      "metadata": {
        "id": "ULvsumxWlGqg"
      },
      "execution_count": null,
      "outputs": []
    },
    {
      "cell_type": "code",
      "source": [
        "from google.colab import drive\n",
        "drive.mount('/content/drive')"
      ],
      "metadata": {
        "colab": {
          "base_uri": "https://localhost:8080/"
        },
        "id": "u5XCQyiXcNHK",
        "outputId": "28633ecb-9fd7-451a-f7fa-9763670a4c04"
      },
      "execution_count": null,
      "outputs": [
        {
          "output_type": "stream",
          "name": "stdout",
          "text": [
            "Drive already mounted at /content/drive; to attempt to forcibly remount, call drive.mount(\"/content/drive\", force_remount=True).\n"
          ]
        }
      ]
    },
    {
      "cell_type": "markdown",
      "source": [
        "Hyper Parameters"
      ],
      "metadata": {
        "id": "aSb5ODs0oSG3"
      }
    },
    {
      "cell_type": "code",
      "source": [
        "T=1200 #Time Period\n",
        "X=np.zeros((T,len(file_paths)),dtype=np.float64)\n",
        "X[0].shape\n"
      ],
      "metadata": {
        "id": "9XEvFBldnUk3",
        "colab": {
          "base_uri": "https://localhost:8080/"
        },
        "outputId": "e98acbd9-ca08-49c6-ee5e-273e747485d4"
      },
      "execution_count": null,
      "outputs": [
        {
          "output_type": "execute_result",
          "data": {
            "text/plain": [
              "(0,)"
            ]
          },
          "metadata": {},
          "execution_count": 9
        }
      ]
    },
    {
      "cell_type": "code",
      "source": [
        "#df=pd.read_csv(file_paths[0])"
      ],
      "metadata": {
        "id": "W0GiU2PQpm8a"
      },
      "execution_count": null,
      "outputs": []
    },
    {
      "cell_type": "code",
      "source": [
        "#df"
      ],
      "metadata": {
        "id": "esDfZKqVp3tQ"
      },
      "execution_count": null,
      "outputs": []
    },
    {
      "cell_type": "code",
      "source": [
        "#df[\"return\"]=np.log(df[\"Close\"])-np.log(df[\"Close\"].shift())"
      ],
      "metadata": {
        "id": "EeTmV9yxqeOr"
      },
      "execution_count": null,
      "outputs": []
    },
    {
      "cell_type": "code",
      "source": [
        "#df"
      ],
      "metadata": {
        "id": "aiDZPm1UsGw5"
      },
      "execution_count": null,
      "outputs": []
    },
    {
      "cell_type": "code",
      "source": [
        "#df=df.sort_values('Date',ascending=False)"
      ],
      "metadata": {
        "id": "JCZDGRAtqzvf"
      },
      "execution_count": null,
      "outputs": []
    },
    {
      "cell_type": "code",
      "source": [
        "\"\"\"df=df[:T]\n",
        "new_df=df[[\"return\"]].copy()\n",
        "np.squeeze(new_df.to_numpy().T).shape\n",
        "X[:,0]+=np.squeeze(new_df.to_numpy().T)\n",
        "X\"\"\""
      ],
      "metadata": {
        "colab": {
          "base_uri": "https://localhost:8080/",
          "height": 35
        },
        "id": "vgU3ZI6atI7E",
        "outputId": "8eed7ae3-8bec-472c-90a2-272e4d4125e2"
      },
      "execution_count": null,
      "outputs": [
        {
          "output_type": "execute_result",
          "data": {
            "text/plain": [
              "'df=df[:T]\\nnew_df=df[[\"return\"]].copy()\\nnp.squeeze(new_df.to_numpy().T).shape\\nX[:,0]+=np.squeeze(new_df.to_numpy().T)\\nX'"
            ],
            "application/vnd.google.colaboratory.intrinsic+json": {
              "type": "string"
            }
          },
          "metadata": {},
          "execution_count": 32
        }
      ]
    },
    {
      "cell_type": "markdown",
      "source": [
        "#Creating X"
      ],
      "metadata": {
        "id": "0c163cdx8UV2"
      }
    },
    {
      "cell_type": "code",
      "source": [
        "for i in range(len(file_paths)):\n",
        "  df=pd.read_csv(file_paths[i])\n",
        "  df[\"return\"]=np.log(df[\"Close\"])-np.log(df[\"Close\"].shift())\n",
        "  df=df.sort_values('Date',ascending=False)\n",
        "  df=df[:T]\n",
        "  new_df=df[[\"return\"]].copy()\n",
        "  r=np.squeeze(new_df.to_numpy().T)\n",
        "  print(r.shape\n",
        "  )\n",
        "  print(file_paths[i])\n",
        "  X[:,i]=np.add(X[:,i],np.squeeze(new_df.to_numpy().T))\n",
        "\n",
        "X  "
      ],
      "metadata": {
        "colab": {
          "base_uri": "https://localhost:8080/"
        },
        "id": "s2OlDsi2mFF-",
        "outputId": "1d0313e1-e4b4-4f92-c8fd-34bf97daec13"
      },
      "execution_count": null,
      "outputs": [
        {
          "output_type": "execute_result",
          "data": {
            "text/plain": [
              "array([], shape=(1200, 0), dtype=float64)"
            ]
          },
          "metadata": {},
          "execution_count": 10
        }
      ]
    },
    {
      "cell_type": "code",
      "source": [
        "#X.shape"
      ],
      "metadata": {
        "id": "kUQicxIWk8A2"
      },
      "execution_count": null,
      "outputs": []
    },
    {
      "cell_type": "code",
      "source": [
        "X=np.save(f\"/content/drive/MyDrive/NIFTY 50 Dataset/Processed Data/X_{T}.npy\".format(T),X)"
      ],
      "metadata": {
        "id": "gjJrpP3Au024",
        "colab": {
          "base_uri": "https://localhost:8080/",
          "height": 311
        },
        "outputId": "880d1389-fdfe-4508-a846-7459125af3b4"
      },
      "execution_count": null,
      "outputs": [
        {
          "output_type": "error",
          "ename": "FileNotFoundError",
          "evalue": "ignored",
          "traceback": [
            "\u001b[0;31m---------------------------------------------------------------------------\u001b[0m",
            "\u001b[0;31mFileNotFoundError\u001b[0m                         Traceback (most recent call last)",
            "\u001b[0;32m<ipython-input-11-be0af36af3b5>\u001b[0m in \u001b[0;36m<cell line: 1>\u001b[0;34m()\u001b[0m\n\u001b[0;32m----> 1\u001b[0;31m \u001b[0mX\u001b[0m\u001b[0;34m=\u001b[0m\u001b[0mnp\u001b[0m\u001b[0;34m.\u001b[0m\u001b[0msave\u001b[0m\u001b[0;34m(\u001b[0m\u001b[0;34mf\"/content/drive/MyDrive/NIFTY 50 Dataset/Processed Data/X_{T}.npy\"\u001b[0m\u001b[0;34m.\u001b[0m\u001b[0mformat\u001b[0m\u001b[0;34m(\u001b[0m\u001b[0mT\u001b[0m\u001b[0;34m)\u001b[0m\u001b[0;34m,\u001b[0m\u001b[0mX\u001b[0m\u001b[0;34m)\u001b[0m\u001b[0;34m\u001b[0m\u001b[0;34m\u001b[0m\u001b[0m\n\u001b[0m",
            "\u001b[0;32m/usr/local/lib/python3.9/dist-packages/numpy/core/overrides.py\u001b[0m in \u001b[0;36msave\u001b[0;34m(*args, **kwargs)\u001b[0m\n",
            "\u001b[0;32m/usr/local/lib/python3.9/dist-packages/numpy/lib/npyio.py\u001b[0m in \u001b[0;36msave\u001b[0;34m(file, arr, allow_pickle, fix_imports)\u001b[0m\n\u001b[1;32m    513\u001b[0m         \u001b[0;32mif\u001b[0m \u001b[0;32mnot\u001b[0m \u001b[0mfile\u001b[0m\u001b[0;34m.\u001b[0m\u001b[0mendswith\u001b[0m\u001b[0;34m(\u001b[0m\u001b[0;34m'.npy'\u001b[0m\u001b[0;34m)\u001b[0m\u001b[0;34m:\u001b[0m\u001b[0;34m\u001b[0m\u001b[0;34m\u001b[0m\u001b[0m\n\u001b[1;32m    514\u001b[0m             \u001b[0mfile\u001b[0m \u001b[0;34m=\u001b[0m \u001b[0mfile\u001b[0m \u001b[0;34m+\u001b[0m \u001b[0;34m'.npy'\u001b[0m\u001b[0;34m\u001b[0m\u001b[0;34m\u001b[0m\u001b[0m\n\u001b[0;32m--> 515\u001b[0;31m         \u001b[0mfile_ctx\u001b[0m \u001b[0;34m=\u001b[0m \u001b[0mopen\u001b[0m\u001b[0;34m(\u001b[0m\u001b[0mfile\u001b[0m\u001b[0;34m,\u001b[0m \u001b[0;34m\"wb\"\u001b[0m\u001b[0;34m)\u001b[0m\u001b[0;34m\u001b[0m\u001b[0;34m\u001b[0m\u001b[0m\n\u001b[0m\u001b[1;32m    516\u001b[0m \u001b[0;34m\u001b[0m\u001b[0m\n\u001b[1;32m    517\u001b[0m     \u001b[0;32mwith\u001b[0m \u001b[0mfile_ctx\u001b[0m \u001b[0;32mas\u001b[0m \u001b[0mfid\u001b[0m\u001b[0;34m:\u001b[0m\u001b[0;34m\u001b[0m\u001b[0;34m\u001b[0m\u001b[0m\n",
            "\u001b[0;31mFileNotFoundError\u001b[0m: [Errno 2] No such file or directory: '/content/drive/MyDrive/NIFTY 50 Dataset/Processed Data/X_1200.npy'"
          ]
        }
      ]
    },
    {
      "cell_type": "markdown",
      "source": [
        "#Creating rb"
      ],
      "metadata": {
        "id": "VVOQfBp68aem"
      }
    },
    {
      "cell_type": "code",
      "source": [
        "NIFTY_df=pd.read_csv(\"/content/drive/MyDrive/NIFTY 50 Dataset/INDEX Data/^NSEI.csv\")"
      ],
      "metadata": {
        "id": "RqdopFGMFfAt"
      },
      "execution_count": null,
      "outputs": []
    },
    {
      "cell_type": "code",
      "source": [
        "NIFTY_df[\"return\"]=np.log(NIFTY_df[\"Close\"])-np.log(NIFTY_df[\"Close\"].shift())\n",
        "#NIFTY_df\n",
        "NIFTY_df=NIFTY_df.sort_index(ascending=False)\n",
        "NIFTY_df_rb=NIFTY_df[['return']].copy()"
      ],
      "metadata": {
        "id": "Y_03hsU5KVBI"
      },
      "execution_count": null,
      "outputs": []
    },
    {
      "cell_type": "code",
      "source": [
        "rb=np.squeeze(NIFTY_df_rb[:T].to_numpy().T)\n",
        "rb.shape"
      ],
      "metadata": {
        "colab": {
          "base_uri": "https://localhost:8080/"
        },
        "id": "LoiobLLzKxYy",
        "outputId": "1a563336-72e2-4b6f-857a-e00f03f62e43"
      },
      "execution_count": null,
      "outputs": [
        {
          "output_type": "execute_result",
          "data": {
            "text/plain": [
              "(1200,)"
            ]
          },
          "metadata": {},
          "execution_count": 42
        }
      ]
    },
    {
      "cell_type": "code",
      "source": [
        "rb=np.save(f\"/content/drive/MyDrive/NIFTY 50 Dataset/Processed Data/rb_{T}\".format(T),rb)"
      ],
      "metadata": {
        "id": "4kDrupLqW97_"
      },
      "execution_count": null,
      "outputs": []
    }
  ]
}